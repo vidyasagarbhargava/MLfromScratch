{
  "nbformat": 4,
  "nbformat_minor": 0,
  "metadata": {
    "colab": {
      "name": "knn.ipynb",
      "provenance": [],
      "collapsed_sections": []
    },
    "kernelspec": {
      "name": "python3",
      "display_name": "Python 3"
    },
    "language_info": {
      "name": "python"
    }
  },
  "cells": [
    {
      "cell_type": "code",
      "metadata": {
        "id": "Hvc9lYJpbATn"
      },
      "source": [
        "import numpy as np\n",
        "from collections import Counter\n",
        "\n",
        "def euclidean_distance(x1, x2):\n",
        "        return np.sqrt(np.sum((x1 - x2)**2))\n",
        "\n",
        "\n",
        "class KNN:\n",
        "\n",
        "    def __init__(self, k=3):\n",
        "        self.k = k\n",
        "\n",
        "    def fit(self, X, y):\n",
        "        self.X_train = X\n",
        "        self.y_train = y\n",
        "\n",
        "    def predict(self, X):\n",
        "        y_pred = [self._predict(x) for x in X]\n",
        "        return np.array(y_pred)\n",
        "\n",
        "    def _predict(self, x):\n",
        "        # Compute distances between x and all examples in the training set\n",
        "        distances = [euclidean_distance(x, x_train) for x_train in self.X_train]\n",
        "        # Sort by distance and return indices of the first k neighbors\n",
        "        k_idx = np.argsort(distances)[:self.k]\n",
        "        # Extract the labels of the k nearest neighbor training samples\n",
        "        k_neighbor_labels = [self.y_train[i] for i in k_idx]  \n",
        "        # return the most common class label\n",
        "        most_common = Counter(k_neighbor_labels).most_common(1)\n",
        "        return most_common[0][0]"
      ],
      "execution_count": 1,
      "outputs": []
    },
    {
      "cell_type": "code",
      "metadata": {
        "id": "Od-VBv33bOwc"
      },
      "source": [
        "from sklearn import datasets\n",
        "from sklearn.model_selection import train_test_split\n",
        "import matplotlib.pyplot as plt\n",
        "from matplotlib.colors import ListedColormap\n",
        "cmap = ListedColormap(['#FF0000', '#00FF00', '#0000FF'])\n",
        "\n",
        "from knn import KNN\n",
        "\n",
        "def accuracy(y_true, y_pred):\n",
        "    accuracy = np.sum(y_true == y_pred) / len(y_true)\n",
        "    return accuracy\n",
        "\n",
        "\n",
        "iris = datasets.load_iris()\n",
        "X, y = iris.data, iris.target\n",
        "\n",
        "X_train, X_test, y_train, y_test = train_test_split(X, y, test_size=0.2, random_state=1234)\n",
        "\n",
        "k = 3\n",
        "clf = KNN(k=k)\n",
        "clf.fit(X_train, y_train)\n",
        "predictions = clf.predict(X_test)\n",
        "print(\"custom KNN classification accuracy\", accuracy(y_test, predictions))"
      ],
      "execution_count": null,
      "outputs": []
    }
  ]
}